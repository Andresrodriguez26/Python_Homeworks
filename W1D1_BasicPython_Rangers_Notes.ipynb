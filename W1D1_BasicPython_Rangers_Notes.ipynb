{
 "cells": [
  {
   "cell_type": "markdown",
   "metadata": {},
   "source": [
    "# Week 2 - Monday Lesson (variable assignment, loops, lists)"
   ]
  },
  {
   "cell_type": "markdown",
   "metadata": {},
   "source": [
    "## Tasks Today:\n",
    "\n",
    "1) Int & Float assignments <br>\n",
    " &nbsp;&nbsp;&nbsp;&nbsp; a) Assigning int <br>\n",
    " &nbsp;&nbsp;&nbsp;&nbsp; b) Assigning float <br>\n",
    " &nbsp;&nbsp;&nbsp;&nbsp; c) Performing Calculations on ints and floats <br>\n",
    " &nbsp;&nbsp;&nbsp;&nbsp;&nbsp;&nbsp;&nbsp;&nbsp; - Addition <br>\n",
    " &nbsp;&nbsp;&nbsp;&nbsp;&nbsp;&nbsp;&nbsp;&nbsp; - Subtraction <br>\n",
    " &nbsp;&nbsp;&nbsp;&nbsp;&nbsp;&nbsp;&nbsp;&nbsp; - Multiplication <br>\n",
    " &nbsp;&nbsp;&nbsp;&nbsp;&nbsp;&nbsp;&nbsp;&nbsp; - Division <br>\n",
    " &nbsp;&nbsp;&nbsp;&nbsp;&nbsp;&nbsp;&nbsp;&nbsp; - Floor Division <br>\n",
    " &nbsp;&nbsp;&nbsp;&nbsp;&nbsp;&nbsp;&nbsp;&nbsp; - Modulo <br>\n",
    " &nbsp;&nbsp;&nbsp;&nbsp;&nbsp;&nbsp;&nbsp;&nbsp; - Exponential <br>\n",
    "2) String Input-Output <br>\n",
    " &nbsp;&nbsp;&nbsp;&nbsp; a) String Assignment <br>\n",
    " &nbsp;&nbsp;&nbsp;&nbsp; b) print() <br>\n",
    " &nbsp;&nbsp;&nbsp;&nbsp; c) String Concatenation <br>\n",
    " &nbsp;&nbsp;&nbsp;&nbsp; d) Type Conversion <br>\n",
    " &nbsp;&nbsp;&nbsp;&nbsp; e) input() <br>\n",
    " &nbsp;&nbsp;&nbsp;&nbsp; f) format() <br>\n",
    " &nbsp;&nbsp;&nbsp;&nbsp; g) Old Way (python 2) <br>\n",
    "3) <b>In-Class Exercise #1</b> <br>\n",
    "4) If Statements <br>\n",
    " &nbsp;&nbsp;&nbsp;&nbsp; a) 'is' keyword <br>\n",
    " &nbsp;&nbsp;&nbsp;&nbsp; b) 'in' keyword <br>\n",
    " &nbsp;&nbsp;&nbsp;&nbsp; c) 'not in' keyword <br>\n",
    "5) <b>In-Class Exercise #2</b> <br>\n",
    "6) Elif Statements <br>\n",
    "7) Else Statements <br>\n",
    "8) <b>In-Class Exercise #3</b> <br>\n",
    "9) Built-In Functions <br>\n",
    "\n",
    " &nbsp;&nbsp;&nbsp;&nbsp; b) len() <br>\n",
    " &nbsp;&nbsp;&nbsp;&nbsp; c) help() <br>\n",
    " &nbsp;&nbsp;&nbsp;&nbsp; d) isinstance() <br>\n",
    " &nbsp;&nbsp;&nbsp;&nbsp; e) abs() <br>\n",
    "10) Try and Except <br>\n"
   ]
  },
  {
   "cell_type": "markdown",
   "metadata": {},
   "source": [
    "### Int & Float Assignments"
   ]
  },
  {
   "cell_type": "markdown",
   "metadata": {},
   "source": [
    "##### Assigning int"
   ]
  },
  {
   "cell_type": "code",
   "execution_count": 26,
   "metadata": {},
   "outputs": [
    {
     "name": "stdout",
     "output_type": "stream",
     "text": [
      "6\n",
      "10\n",
      "15 7\n"
     ]
    }
   ],
   "source": [
    "# variables are arbitrary names that hold some kind of value\n",
    "# while the names dont matter, to make your code readable they should\n",
    "# relate to whatever the value is\n",
    "number = 6\n",
    "print(number)\n",
    "\n",
    "elephants = 10\n",
    "print(elephants)\n",
    "\n",
    "x = 15\n",
    "y = 7\n",
    "print(x,y)\n"
   ]
  },
  {
   "cell_type": "markdown",
   "metadata": {},
   "source": [
    "##### Assigning float"
   ]
  },
  {
   "cell_type": "code",
   "execution_count": 31,
   "metadata": {},
   "outputs": [
    {
     "name": "stdout",
     "output_type": "stream",
     "text": [
      "3.14\n",
      "123.097862\n"
     ]
    }
   ],
   "source": [
    "#floats are decimals\n",
    "#1.7\n",
    "my_float = 3.14\n",
    "print(my_float)\n",
    "big_float = 123.097862\n",
    "print(big_float)"
   ]
  },
  {
   "cell_type": "markdown",
   "metadata": {},
   "source": [
    "#### Performing Calculations on ints and floats"
   ]
  },
  {
   "cell_type": "markdown",
   "metadata": {},
   "source": [
    "##### Addition"
   ]
  },
  {
   "cell_type": "code",
   "execution_count": 32,
   "metadata": {
    "scrolled": true
   },
   "outputs": [
    {
     "name": "stdout",
     "output_type": "stream",
     "text": [
      "13\n",
      "13\n",
      "9.14\n",
      "14\n"
     ]
    }
   ],
   "source": [
    "num1 = 7\n",
    "num2 = 6\n",
    "\n",
    "print(num1 + num2)\n",
    "\n",
    "result = num1 + num2\n",
    "print(result)\n",
    "\n",
    "#adding float and int together\n",
    "num3 = 3.14\n",
    "print(num3 + num2)\n",
    "\n",
    "result += 1 \n",
    "\n",
    "print(result)\n",
    "\n",
    "num3 = 15\n",
    "num4 = 2\n",
    "\n",
    "print(num3 - num4)\n",
    "\n",
    "result = num3 - num4\n",
    "print(result)\n",
    "\n",
    "result -= num4\n",
    "# result = result - num4\n",
    "print(result)"
   ]
  },
  {
   "cell_type": "markdown",
   "metadata": {},
   "source": [
    "##### Subtraction"
   ]
  },
  {
   "cell_type": "code",
   "execution_count": 33,
   "metadata": {},
   "outputs": [
    {
     "name": "stdout",
     "output_type": "stream",
     "text": [
      "3\n",
      "-3\n",
      "-7\n"
     ]
    }
   ],
   "source": [
    "num3 = 15\n",
    "num4 = 12\n",
    "\n",
    "print(num3 - num4)\n",
    "\n",
    "result2 = num4 - num3\n",
    "print(result2)\n",
    "\n",
    "result2 -=4\n",
    "print(result2)\n",
    "\n"
   ]
  },
  {
   "cell_type": "markdown",
   "metadata": {},
   "source": [
    "##### Multiplication"
   ]
  },
  {
   "cell_type": "code",
   "execution_count": 42,
   "metadata": {},
   "outputs": [
    {
     "name": "stdout",
     "output_type": "stream",
     "text": [
      "47.0\n",
      "94.0\n",
      "188.0\n",
      "188\n"
     ]
    }
   ],
   "source": [
    "num1 = 10\n",
    "num2 = 4.7\n",
    "\n",
    "product = num1 * num2\n",
    "print(product)\n",
    "\n",
    "product*=2\n",
    "\n",
    "print(product)\n",
    "\n",
    "product = product * 2 # does the same this as line 7, setting the current variable equal the current value * 2\n",
    "print(product)\n",
    "\n",
    "product = int(product)\n",
    "print(product)"
   ]
  },
  {
   "cell_type": "code",
   "execution_count": 7,
   "metadata": {},
   "outputs": [
    {
     "name": "stdout",
     "output_type": "stream",
     "text": [
      "47.0\n",
      "94.0\n"
     ]
    }
   ],
   "source": [
    "num1 = 10\n",
    "num2 = 4.7\n",
    "\n",
    "product = num1 * num2\n",
    "print(product)\n",
    "\n",
    "product = product * 2\n",
    "\n",
    "print(product)"
   ]
  },
  {
   "cell_type": "code",
   "execution_count": 8,
   "metadata": {},
   "outputs": [
    {
     "name": "stdout",
     "output_type": "stream",
     "text": [
      "20\n"
     ]
    }
   ],
   "source": [
    "print(10 * 2)"
   ]
  },
  {
   "cell_type": "markdown",
   "metadata": {},
   "source": [
    "##### Division"
   ]
  },
  {
   "cell_type": "code",
   "execution_count": 46,
   "metadata": {},
   "outputs": [
    {
     "name": "stdout",
     "output_type": "stream",
     "text": [
      "5.0\n",
      "5\n",
      "1.0\n"
     ]
    }
   ],
   "source": [
    "num1 = 45\n",
    "num2 = 9\n",
    "\n",
    "quotient = num1/num2\n",
    "\n",
    "print(quotient)\n",
    "quotient = int(quotient)\n",
    "print(quotient)\n",
    "\n",
    "quotient /=5\n",
    "\n",
    "print(quotient)"
   ]
  },
  {
   "cell_type": "code",
   "execution_count": 10,
   "metadata": {},
   "outputs": [
    {
     "name": "stdout",
     "output_type": "stream",
     "text": [
      "15.0\n"
     ]
    }
   ],
   "source": [
    "num = '5'\n",
    "num = int(num)\n",
    "print(num)"
   ]
  },
  {
   "cell_type": "markdown",
   "metadata": {},
   "source": [
    "##### Floor Division"
   ]
  },
  {
   "cell_type": "code",
   "execution_count": 47,
   "metadata": {
    "scrolled": true
   },
   "outputs": [
    {
     "name": "stdout",
     "output_type": "stream",
     "text": [
      "2.5\n",
      "2\n"
     ]
    }
   ],
   "source": [
    "# floor divison is a division operation that rounds the result down\n",
    "#to the nearest whole number or integer which is less than or equal to the normal division result.\n",
    "num1 = 5\n",
    "num2 = 2\n",
    "\n",
    "print(num1/num2)\n",
    "\n",
    "print(num1//num2)"
   ]
  },
  {
   "cell_type": "code",
   "execution_count": 12,
   "metadata": {},
   "outputs": [
    {
     "name": "stdout",
     "output_type": "stream",
     "text": [
      "2.5\n"
     ]
    }
   ],
   "source": [
    "#round()\n",
    "num = 5.6435\n",
    "num2 = 5.4\n",
    "\n",
    "x = round(num, 3)\n",
    "print(x)\n",
    "y = round(num2)\n",
    "print(y)\n"
   ]
  },
  {
   "cell_type": "markdown",
   "metadata": {},
   "source": [
    "##### Modulo"
   ]
  },
  {
   "cell_type": "code",
   "execution_count": 48,
   "metadata": {},
   "outputs": [
    {
     "name": "stdout",
     "output_type": "stream",
     "text": [
      "2\n",
      "its odd\n"
     ]
    }
   ],
   "source": [
    "num = 7\n",
    "num2 = 5\n",
    "\n",
    "new_num = num % num2\n",
    "print(new_num)\n",
    "\n",
    "if num % 2 == 0:\n",
    "    print(\"its even\")\n",
    "else:\n",
    "    print(\"its odd\")"
   ]
  },
  {
   "cell_type": "code",
   "execution_count": 14,
   "metadata": {},
   "outputs": [
    {
     "name": "stdout",
     "output_type": "stream",
     "text": [
      "1\n",
      "1\n"
     ]
    }
   ],
   "source": []
  },
  {
   "cell_type": "markdown",
   "metadata": {},
   "source": [
    "##### Exponential"
   ]
  },
  {
   "cell_type": "code",
   "execution_count": 16,
   "metadata": {},
   "outputs": [
    {
     "name": "stdout",
     "output_type": "stream",
     "text": [
      "25\n",
      "625\n"
     ]
    }
   ],
   "source": [
    "square = 5**2\n",
    "\n",
    "print(square)\n",
    "\n",
    "\n",
    "square**=2\n",
    "print(square)\n",
    "\n",
    "cubed = 3*3\n",
    "print(cubed)"
   ]
  },
  {
   "cell_type": "code",
   "execution_count": 17,
   "metadata": {},
   "outputs": [
    {
     "name": "stdout",
     "output_type": "stream",
     "text": [
      "27\n",
      "19683\n"
     ]
    }
   ],
   "source": []
  },
  {
   "cell_type": "markdown",
   "metadata": {},
   "source": [
    "### String Input-Output"
   ]
  },
  {
   "cell_type": "markdown",
   "metadata": {},
   "source": [
    "##### String Assignment"
   ]
  },
  {
   "cell_type": "code",
   "execution_count": 49,
   "metadata": {},
   "outputs": [],
   "source": [
    "name = \"Ryan\"\n",
    "\n",
    "#empty string\n",
    "new_string = \"\"\n",
    "\n",
    "#double and single quotes work here\n",
    "another_name = \"Charmander\""
   ]
  },
  {
   "cell_type": "markdown",
   "metadata": {},
   "source": [
    "##### print() <br>\n",
    "<p>Don't forget about end=' '</p>"
   ]
  },
  {
   "cell_type": "code",
   "execution_count": 59,
   "metadata": {},
   "outputs": [
    {
     "name": "stdout",
     "output_type": "stream",
     "text": [
      "Ryan\n"
     ]
    },
    {
     "ename": "NameError",
     "evalue": "name 'another_name' is not defined",
     "output_type": "error",
     "traceback": [
      "\u001b[0;31m---------------------------------------------------------------------------\u001b[0m",
      "\u001b[0;31mNameError\u001b[0m                                 Traceback (most recent call last)",
      "Cell \u001b[0;32mIn[59], line 4\u001b[0m\n\u001b[1;32m      1\u001b[0m \u001b[38;5;66;03m#help(print)\u001b[39;00m\n\u001b[1;32m      2\u001b[0m \u001b[38;5;28mprint\u001b[39m(name)\n\u001b[0;32m----> 4\u001b[0m \u001b[38;5;28mprint\u001b[39m(name, another_name, \u001b[38;5;241m1\u001b[39m, \u001b[38;5;241m2\u001b[39m, \u001b[38;5;124m\"\u001b[39m\u001b[38;5;124mHello\u001b[39m\u001b[38;5;124m\"\u001b[39m, sep\u001b[38;5;241m=\u001b[39m\u001b[38;5;124m'\u001b[39m\u001b[38;5;124m***\u001b[39m\u001b[38;5;124m'\u001b[39m, end\u001b[38;5;241m=\u001b[39m \u001b[38;5;124m\"\u001b[39m\u001b[38;5;124m&&&\u001b[39m\u001b[38;5;124m\"\u001b[39m)\n",
      "\u001b[0;31mNameError\u001b[0m: name 'another_name' is not defined"
     ]
    }
   ],
   "source": [
    "#help(print)\n",
    "print(name)\n",
    "\n",
    "print(name, another_name, 1, 2, \"Hello\", sep='***', end= \"&&&\")"
   ]
  },
  {
   "cell_type": "markdown",
   "metadata": {},
   "source": [
    "##### String Concatenation"
   ]
  },
  {
   "cell_type": "code",
   "execution_count": 57,
   "metadata": {},
   "outputs": [
    {
     "name": "stdout",
     "output_type": "stream",
     "text": [
      "Luke Skywalker\n",
      "Luke Skywalker Jedi Master\n"
     ]
    }
   ],
   "source": [
    "# a string is immutable which means it cannot be altered in anyway\n",
    "first_name = \"Luke\"\n",
    "last_name = \"Skywalker\"\n",
    "\n",
    "full_name = first_name + \" \" + last_name\n",
    "print(full_name)\n",
    "\n",
    "full_name += \" \" + \"Jedi Master\"\n",
    "print(full_name)"
   ]
  },
  {
   "cell_type": "markdown",
   "metadata": {},
   "source": [
    "##### Type Conversion"
   ]
  },
  {
   "cell_type": "code",
   "execution_count": 22,
   "metadata": {},
   "outputs": [
    {
     "name": "stdout",
     "output_type": "stream",
     "text": [
      "<class 'int'>\n",
      "<class 'float'>\n"
     ]
    }
   ],
   "source": [
    "# int() - convert type into integer type\n",
    "# float() - convert to float type\n",
    "# str() - convert to string type\n",
    "\n",
    "#not every string can be made into a float or integer but every integer or float can be made into a string\n",
    "# why?!?!?\n",
    "\n",
    "string_num = \"5\"\n",
    "print(type(string_num))\n",
    "int_num = int(string_num)\n",
    "print(type(int_num))\n",
    "\n",
    "my_name = \"Andres\"\n",
    "\n",
    "#name_int = int(my_name)\n",
    "#print(name_int)\n",
    "\n",
    "my_num = 10\n",
    "my_float = 15.7\n",
    "\n",
    "my_string_float = str(my_float)\n",
    "print(type(my_string_float))\n",
    "\n",
    "my_string"
   ]
  },
  {
   "cell_type": "markdown",
   "metadata": {},
   "source": [
    "##### input()"
   ]
  },
  {
   "cell_type": "code",
   "execution_count": null,
   "metadata": {},
   "outputs": [],
   "source": [
    "amount = float(input(\"How much does a pack of pokemon cards cost?\"))"
   ]
  },
  {
   "cell_type": "code",
   "execution_count": null,
   "metadata": {},
   "outputs": [],
   "source": [
    "total = amout * 4\n",
    "print(total)"
   ]
  },
  {
   "cell_type": "code",
   "execution_count": null,
   "metadata": {},
   "outputs": [],
   "source": [
    "#input will always reuturn a string type forever and ever and ever\n",
    "name = input(\"What is your name? \")\n",
    "print(\"Your name is,\" name)\n",
    "\n",
    "quest = input(\"What is your quest? \")\n",
    "print(\"Your quest is,\" name)\n",
    "\n",
    "color = input(\"What is your favorite color? \")\n",
    "print(\"Your favorite color is,\", color)"
   ]
  },
  {
   "cell_type": "code",
   "execution_count": null,
   "metadata": {},
   "outputs": [],
   "source": [
    "age = int(input(\"How old are you\"))\n",
    "\n",
    "print(\"You are\", age)"
   ]
  },
  {
   "cell_type": "markdown",
   "metadata": {},
   "source": [
    "##### format()"
   ]
  },
  {
   "cell_type": "code",
   "execution_count": null,
   "metadata": {},
   "outputs": [],
   "source": [
    "age = int(input(\"How old are you\"))\n",
    "name = input(\"What is your name\")\n",
    "\n",
    "result_string = \"You are {} years old, {} and you are getting wiser!\".format(age,name)\n",
    "print(result_string)"
   ]
  },
  {
   "cell_type": "code",
   "execution_count": null,
   "metadata": {},
   "outputs": [],
   "source": []
  },
  {
   "cell_type": "markdown",
   "metadata": {},
   "source": [
    "##### Old Way (python 2)"
   ]
  },
  {
   "cell_type": "code",
   "execution_count": null,
   "metadata": {},
   "outputs": [],
   "source": [
    "result_string2 = \"You are %s and you look great for your age!\" %age\n",
    "print(result_string2)"
   ]
  },
  {
   "cell_type": "markdown",
   "metadata": {},
   "source": [
    "# In-Class Exercise 1 <br>\n",
    "<p>Create a formatted statement that asks for a car's color, year, make, model and prints out the results</p>"
   ]
  },
  {
   "cell_type": "code",
   "execution_count": 60,
   "metadata": {},
   "outputs": [
    {
     "name": "stdout",
     "output_type": "stream",
     "text": [
      "What color is your car? gray\n",
      "What is the year of your car? 2020\n",
      "What make is your car? BMW\n",
      "What model is your car? 330i\n",
      "Your cars color is gray, from 2020, make BMW, model 330i, awesome car! \n"
     ]
    }
   ],
   "source": [
    "color = str(input(\"What color is your car? \"))\n",
    "year = int(input(\"What is the year of your car? \"))\n",
    "make = str(input(\"What make is your car? \"))\n",
    "model = str(input(\"What model is your car? \"))\n",
    "\n",
    "result_car = \"Your cars color is {}, from {}, make {}, model {}, awesome car! \".format(color,year,make,model)\n",
    "print(result_car)"
   ]
  },
  {
   "cell_type": "code",
   "execution_count": 61,
   "metadata": {},
   "outputs": [
    {
     "name": "stdout",
     "output_type": "stream",
     "text": [
      "What is your car's color? Gray\n",
      "What is your car's year? 2020\n",
      "What is your car's make? BMW\n",
      "What is your car's model? 330i\n",
      "Your car's year make and model is: Gray, 2020, BMW, and 330i.\n"
     ]
    }
   ],
   "source": [
    "color = input(\"What is your car's color? \")\n",
    "year = input(\"What is your car's year? \")\n",
    "make = input(\"What is your car's make? \")\n",
    "model = input(\"What is your car's model? \")\n",
    "\n",
    "car_info = f\"Your car's year make and model is: {color}, {year}, {make}, and {model}.\"\n",
    "print(car_info)"
   ]
  },
  {
   "cell_type": "code",
   "execution_count": null,
   "metadata": {},
   "outputs": [],
   "source": []
  },
  {
   "cell_type": "markdown",
   "metadata": {},
   "source": [
    "### If Statements"
   ]
  },
  {
   "cell_type": "code",
   "execution_count": 62,
   "metadata": {},
   "outputs": [
    {
     "name": "stdout",
     "output_type": "stream",
     "text": [
      "False\n",
      "True\n",
      "True\n"
     ]
    }
   ],
   "source": [
    "# Operators Less Than <, Greater Than >, Equal too ==, Not Equal To !=\n",
    "# Less Than or Equal To <=, Greater Than or Equal To >=\n",
    "\n",
    "#Truth Tree\n",
    "# T && F = F\n",
    "# T && T = T\n",
    "# T || F = T\n",
    "# F || T = T\n",
    "# F || F = F\n",
    "\n",
    "num1 = 6\n",
    "num2 = 65\n",
    "#if\n",
    "#elif\n",
    "#else\n",
    "\n",
    "if num2 == num1:\n",
    "    print(\"True\")\n",
    "\n",
    "else:\n",
    "    print(\"False\")\n",
    "    \n",
    "if num1 > 5 and num2 < 100:\n",
    "    print(True)\n",
    "else:\n",
    "    print(False)\n",
    "    \n",
    "if num1 == 5 or num2 > 50:\n",
    "    print(True)\n",
    "else:\n",
    "    print(False)"
   ]
  },
  {
   "cell_type": "markdown",
   "metadata": {},
   "source": [
    "##### 'is' keyword"
   ]
  },
  {
   "cell_type": "code",
   "execution_count": null,
   "metadata": {
    "scrolled": true
   },
   "outputs": [],
   "source": [
    "#use the \"is\" keyword checking for same/similar objects (location) not same value\n",
    "num3 = 90\n",
    "\n",
    "if num3 == 90:\n",
    "    print(\"That'll do it!\")\n",
    "    \n",
    "num4 = num3\n",
    "\n",
    "if num4 is num3:\n",
    "    print(\"yes\")\n",
    "    \n",
    "# if num3 is 90:\n",
    "#     print(\"That'll also do it\") #This gives us a Syntax Warning, working with literal\n",
    "num2 = 55\n",
    "print(num2)\n",
    "num3 = num2 # = 55\n",
    "print(num3)\n",
    "num4 = num3\n",
    "print(num4)\n",
    "num2 = num2 + 1\n",
    "print(num2)\n",
    "num5 = 100\n",
    "\n",
    "\n",
    "user_age1 = int(input(\"How old are you?\"))\n",
    "\n",
    "user_age2 = int(input(\"How old are you?\"))\n",
    "\n",
    "# if num4 == num3:\n",
    "#     print(\"SUPER DUPER\")\n",
    "# else:\n",
    "#     print(\"That is not super duper\")\n",
    "\n",
    "if user_age1 == user_age2:\n",
    "    print(\"Yay you graduate high school in the same year, mayne\")\n",
    "else:\n",
    "    print(\"One of you is older\")\n",
    "\n",
    "\n",
    "\n",
    "\n",
    "\n"
   ]
  },
  {
   "cell_type": "markdown",
   "metadata": {},
   "source": [
    "##### 'in' keyword"
   ]
  },
  {
   "cell_type": "code",
   "execution_count": 64,
   "metadata": {},
   "outputs": [
    {
     "name": "stdout",
     "output_type": "stream",
     "text": [
      "Excelent\n",
      "ULLLTIMATE POWERRRR\n"
     ]
    }
   ],
   "source": [
    "#memberahip check to see if a value is inside of something else (usually an iterable)\n",
    "#iterable is something we can iterate through and check character or value\n",
    "character_name = \"Boba Fett\"\n",
    "if \"b\" in char_name.lower():\n",
    "    print(\"Excelent\")\n",
    "else:\n",
    "    print(\"No B's here\")\n",
    "    \n",
    "if \"f\" in \"Mace Windu\":\n",
    "    print(\"We do not grant you the rank of master.\")\n",
    "else:\n",
    "    print(\"ULLLTIMATE POWERRRR\")"
   ]
  },
  {
   "cell_type": "markdown",
   "metadata": {},
   "source": [
    "##### 'not in' keyword'"
   ]
  },
  {
   "cell_type": "code",
   "execution_count": 65,
   "metadata": {},
   "outputs": [
    {
     "name": "stdout",
     "output_type": "stream",
     "text": [
      "argh\n"
     ]
    }
   ],
   "source": [
    "name = \"Mega Man\"\n",
    "\n",
    "if \"r\" not in name:\n",
    "    print(\"argh\")\n",
    "else:\n",
    "    print(\"radical\")"
   ]
  },
  {
   "cell_type": "markdown",
   "metadata": {},
   "source": [
    "# In-Class Exercise 2 <br>\n",
    "<p>Ask user for input, check to see if the letter 'p' is in the input</p>\n",
    "<p>Check for case sensitivity</p>\n"
   ]
  },
  {
   "cell_type": "code",
   "execution_count": 67,
   "metadata": {},
   "outputs": [
    {
     "name": "stdout",
     "output_type": "stream",
     "text": [
      "Something you want to say? hey\n",
      "This does not has an a \n"
     ]
    }
   ],
   "source": [
    "text = input(\"Something you want to say? \")\n",
    "\n",
    "if \"a\" in text.lower():\n",
    "    print(\"This has an a \")\n",
    "else:\n",
    "    print(\"This does not has an a \")"
   ]
  },
  {
   "cell_type": "code",
   "execution_count": null,
   "metadata": {},
   "outputs": [],
   "source": [
    "str = input(\"Enter you string: \")\n",
    "\n",
    "if \"p\" in str.lower() or \"p\" in str.upper():\n",
    "    print(\"Sting has p letter init\")\n",
    "else:\n",
    "    print(\"String don't have p letter init\")"
   ]
  },
  {
   "cell_type": "code",
   "execution_count": null,
   "metadata": {},
   "outputs": [],
   "source": [
    "word = input(\"Give me a word: \")\n",
    "\n",
    "if \"p\" in word.lower():\n",
    "    print(\"Yep theres a (p) in that word!\")\n",
    "else:\n",
    "    print(\"Damn, no (P) in this word.\")"
   ]
  },
  {
   "cell_type": "code",
   "execution_count": null,
   "metadata": {},
   "outputs": [],
   "source": [
    "user_input = input(\"Hey you, enter a string: \")\n",
    "\n",
    "if 'p' in user_input:\n",
    "    print(\"p was in there indeed\")\n",
    "elif 'P' in user_input:\n",
    "    print(\"Big P in here\")"
   ]
  },
  {
   "cell_type": "markdown",
   "metadata": {},
   "source": [
    "## Using 'and'/'or' with If Statements"
   ]
  },
  {
   "cell_type": "code",
   "execution_count": null,
   "metadata": {},
   "outputs": [],
   "source": [
    "#Truth Tree\n",
    "# T && F = F\n",
    "# T && T = T\n",
    "# T || F = T\n",
    "# F || T = T\n",
    "# F || F = F\n",
    "\n",
    "\n",
    "num1 = 15\n",
    "num2 = 3\n",
    "num3 = 10\n",
    "num4 = 3\n",
    "\n",
    "#if with and statement\n",
    "if num1 / 5 == num2 and num3 - 7 == num4:\n",
    "    print(\"True and True\")\n",
    "else:\n",
    "    print(\"one of the above statements was false\")\n",
    "    \n",
    "# if with or statement\n",
    "if num1 > num2 or num3 == num4:\n",
    "    print(\"True and False\")\n",
    "else:\n",
    "    print(\"Both of the above statements are false\")\n",
    "    \n",
    "\n",
    "    \n"
   ]
  },
  {
   "cell_type": "markdown",
   "metadata": {},
   "source": [
    "### Elif Statements"
   ]
  },
  {
   "cell_type": "code",
   "execution_count": 63,
   "metadata": {},
   "outputs": [
    {
     "name": "stdout",
     "output_type": "stream",
     "text": [
      "What is your name? pippin\n",
      "When is second breakfast!?\n"
     ]
    }
   ],
   "source": [
    "#if conidtion 1\n",
    "#elif condition 2\n",
    "#elif condition 3\n",
    "#elif condition 4\n",
    "#else (all other conditions)\n",
    "\n",
    "name = input(\"What is your name? \")\n",
    "if name == \"Legolas\":\n",
    "    print(\"They're taking the hobbits to isengard\")\n",
    "elif name == \"Gimli\":\n",
    "    print(\"I cannot make the jump, you have to toss me.\")\n",
    "elif name == \"Aragorn\":\n",
    "    print(\"My friends, you bow to no one.\")\n",
    "else: \n",
    "    print(\"When is second breakfast!?\")    "
   ]
  },
  {
   "cell_type": "markdown",
   "metadata": {},
   "source": [
    "### Else Statements"
   ]
  },
  {
   "cell_type": "code",
   "execution_count": null,
   "metadata": {},
   "outputs": [],
   "source": [
    "#This covers a situation not covered by the ifs and elifs\n",
    "#if none of the above conditions are met, the else will be hit\n",
    "name = input(\"What is your name? \")\n",
    "if name == \"Legolas\":\n",
    "    print(\"They're taking the hobbits to isengard\")\n",
    "elif name == \"Gimli\":\n",
    "    print(\"I cannot make the jump, you have to toss me.\")\n",
    "elif name == \"Aragorn\":\n",
    "    print(\"My friends, you bow to no one.\")\n",
    "elif name == \"Gandalf\":\n",
    "    print(\"Fool of a Took\")\n",
    "elif name == \"Aragorn\":\n",
    "    print(\"My friends, you bow to no one.\")\n",
    "\n"
   ]
  },
  {
   "cell_type": "markdown",
   "metadata": {},
   "source": [
    "### String Manipulation"
   ]
  },
  {
   "cell_type": "markdown",
   "metadata": {},
   "source": [
    "#### .lstrip()"
   ]
  },
  {
   "cell_type": "code",
   "execution_count": 68,
   "metadata": {},
   "outputs": [
    {
     "name": "stdout",
     "output_type": "stream",
     "text": [
      "                  Lando Calrissian\n",
      "Lando Calrissian\n"
     ]
    }
   ],
   "source": [
    "# our_string.lstrip()\n",
    "#removes white space from left side of string\n",
    "name = \"                  Lando Calrissian\"\n",
    "print(name)\n",
    "print(name.lstrip())"
   ]
  },
  {
   "cell_type": "markdown",
   "metadata": {},
   "source": [
    "#### .rstrip()"
   ]
  },
  {
   "cell_type": "code",
   "execution_count": 69,
   "metadata": {},
   "outputs": [
    {
     "name": "stdout",
     "output_type": "stream",
     "text": [
      "Luke Skywalker     \n",
      "Luke Skywalker\n"
     ]
    }
   ],
   "source": [
    "# our_string.rstrip()\n",
    "#removes whitespace from right side\n",
    "name = \"Luke Skywalker     \"\n",
    "print(name)\n",
    "print(name.rstrip())"
   ]
  },
  {
   "cell_type": "markdown",
   "metadata": {},
   "source": [
    "#### .strip()"
   ]
  },
  {
   "cell_type": "code",
   "execution_count": 70,
   "metadata": {},
   "outputs": [
    {
     "name": "stdout",
     "output_type": "stream",
     "text": [
      "   Ash Ketchum    \n",
      "Ash Ketchum\n"
     ]
    }
   ],
   "source": [
    "# our.string.strip()\n",
    "#remove whitespace. from all sides\n",
    "name = \"   Ash Ketchum    \"\n",
    "print(name)\n",
    "print(name.strip())"
   ]
  },
  {
   "cell_type": "code",
   "execution_count": 72,
   "metadata": {},
   "outputs": [
    {
     "name": "stdout",
     "output_type": "stream",
     "text": [
      ",,,,,,rod kimble,\n",
      "rod kimble\n"
     ]
    }
   ],
   "source": [
    "name = \",,,,,,rod kimble,\"\n",
    "print(name)\n",
    "\n",
    "print(name.strip(\",\"))"
   ]
  },
  {
   "cell_type": "markdown",
   "metadata": {},
   "source": [
    "#### .title()"
   ]
  },
  {
   "cell_type": "code",
   "execution_count": 73,
   "metadata": {},
   "outputs": [
    {
     "name": "stdout",
     "output_type": "stream",
     "text": [
      "Goofy Goober\n"
     ]
    }
   ],
   "source": [
    "#our_string.title()\n",
    "name = \"goofy goober\"\n",
    "print(name.title())"
   ]
  },
  {
   "cell_type": "markdown",
   "metadata": {},
   "source": [
    "#### .upper()"
   ]
  },
  {
   "cell_type": "code",
   "execution_count": 74,
   "metadata": {},
   "outputs": [
    {
     "name": "stdout",
     "output_type": "stream",
     "text": [
      "CHEETOR\n"
     ]
    }
   ],
   "source": [
    "# our_string.upper()\n",
    "name = \"Cheetor\"\n",
    "print(name.upper())"
   ]
  },
  {
   "cell_type": "markdown",
   "metadata": {},
   "source": [
    "#### .lower()"
   ]
  },
  {
   "cell_type": "code",
   "execution_count": 75,
   "metadata": {
    "scrolled": true
   },
   "outputs": [
    {
     "name": "stdout",
     "output_type": "stream",
     "text": [
      "darth vader\n",
      "darth vader\n"
     ]
    }
   ],
   "source": [
    "# our_string.lower()\n",
    "name = \"Darth Vader\"\n",
    "print(name.lower())\n",
    "\n",
    "name_lower = name.lower()\n",
    "print(name_lower)"
   ]
  },
  {
   "cell_type": "markdown",
   "metadata": {},
   "source": [
    "### String Exercise"
   ]
  },
  {
   "cell_type": "markdown",
   "metadata": {},
   "source": [
    "Have a user input a sentence. Return the name with all white space removed and each first letter capitalized."
   ]
  },
  {
   "cell_type": "code",
   "execution_count": 76,
   "metadata": {},
   "outputs": [
    {
     "name": "stdout",
     "output_type": "stream",
     "text": [
      "What is your first name?Andres\n",
      "What is your last name?Rodriguez\n",
      "Your name is Andres Rodriguez.\n"
     ]
    }
   ],
   "source": [
    "first_name = input(\"What is your first name?\")\n",
    "last_name = input(\"What is your last name?\")\n",
    "print(f\"Your name is {first_name.strip().title()} {last_name.strip().title()}.\")"
   ]
  },
  {
   "cell_type": "code",
   "execution_count": null,
   "metadata": {},
   "outputs": [],
   "source": [
    "name = input(\"Enter a name\")\n",
    "name2 = name.strip()\n",
    "name3 = name2.title()\n",
    "print(name3)"
   ]
  },
  {
   "cell_type": "code",
   "execution_count": null,
   "metadata": {},
   "outputs": [],
   "source": [
    "name = input(\"Enter your name:\")\n",
    "name1 = name.strip()\n",
    "\n",
    "print(\"your name is\",name1.title())"
   ]
  },
  {
   "cell_type": "code",
   "execution_count": null,
   "metadata": {},
   "outputs": [],
   "source": [
    "name = input(\"What is your name\")\n",
    "print(name)\n",
    "\n",
    "print(\"Their name is \", name.strip().title())"
   ]
  },
  {
   "cell_type": "markdown",
   "metadata": {},
   "source": [
    "### Built-In Functions"
   ]
  },
  {
   "cell_type": "markdown",
   "metadata": {},
   "source": [
    "##### len()"
   ]
  },
  {
   "cell_type": "code",
   "execution_count": null,
   "metadata": {},
   "outputs": [],
   "source": [
    "#works for strings and lists\n",
    "# return the length of a given variable as an integer\n",
    "#__ Len__ attribute of an iterable\n",
    "\n",
    "name = \"Max\"\n",
    "length_of_name = len(name)\n",
    "print(length_of_name)\n",
    "print(len(name))\n",
    "\n",
    "\n",
    "my_list = [1, 2, 3, 4, 5, 6, 7]\n",
    "\n",
    "print(len(my_list))"
   ]
  },
  {
   "cell_type": "markdown",
   "metadata": {},
   "source": [
    "##### help()"
   ]
  },
  {
   "cell_type": "code",
   "execution_count": 77,
   "metadata": {},
   "outputs": [
    {
     "name": "stdout",
     "output_type": "stream",
     "text": [
      "Help on built-in function len in module builtins:\n",
      "\n",
      "len(obj, /)\n",
      "    Return the number of items in a container.\n",
      "\n",
      "Help on built-in function print in module builtins:\n",
      "\n",
      "print(*args, sep=' ', end='\\n', file=None, flush=False)\n",
      "    Prints the values to a stream, or to sys.stdout by default.\n",
      "    \n",
      "    sep\n",
      "      string inserted between values, default a space.\n",
      "    end\n",
      "      string appended after the last value, default a newline.\n",
      "    file\n",
      "      a file-like object (stream); defaults to the current sys.stdout.\n",
      "    flush\n",
      "      whether to forcibly flush the stream.\n",
      "\n",
      "Help on built-in function max in module builtins:\n",
      "\n",
      "max(...)\n",
      "    max(iterable, *[, default=obj, key=func]) -> value\n",
      "    max(arg1, arg2, *args, *[, key=func]) -> value\n",
      "    \n",
      "    With a single iterable argument, return its biggest item. The\n",
      "    default keyword-only argument specifies an object to return if\n",
      "    the provided iterable is empty.\n",
      "    With two or more arguments, return the largest argument.\n",
      "\n"
     ]
    }
   ],
   "source": [
    "# gives a tooltip on a python built-in function\n",
    "help(len)\n",
    "help(print)\n",
    "help(max)"
   ]
  },
  {
   "cell_type": "markdown",
   "metadata": {},
   "source": [
    "##### isinstance()"
   ]
  },
  {
   "cell_type": "code",
   "execution_count": 79,
   "metadata": {},
   "outputs": [
    {
     "name": "stdout",
     "output_type": "stream",
     "text": [
      "False\n",
      "We all float down here\n"
     ]
    }
   ],
   "source": [
    "#check a variable/value to find out what Object Family (data type) it belongs to\n",
    "# isinstance(value, type)\n",
    "\n",
    "print(isinstance(4.5, int))\n",
    "\n",
    "if isinstance(4.5, float):\n",
    "    print(\"We all float down here\")\n",
    "else:\n",
    "    print(\"Thats not a float\")\n",
    "\n",
    "\n",
    "    "
   ]
  },
  {
   "cell_type": "code",
   "execution_count": null,
   "metadata": {},
   "outputs": [],
   "source": [
    "name = \"Ryan\"\n",
    "print(type(name))\n",
    "print(isinstance(5, int))\n"
   ]
  },
  {
   "cell_type": "code",
   "execution_count": null,
   "metadata": {},
   "outputs": [],
   "source": [
    "print(isinstance(5, float))"
   ]
  },
  {
   "cell_type": "code",
   "execution_count": null,
   "metadata": {},
   "outputs": [],
   "source": [
    "num1 = 5\n",
    "num2 = 2\n",
    "\n",
    "floored = num1//num2"
   ]
  },
  {
   "cell_type": "markdown",
   "metadata": {},
   "source": [
    "##### abs()"
   ]
  },
  {
   "cell_type": "code",
   "execution_count": null,
   "metadata": {},
   "outputs": [],
   "source": [
    "# | 5 |\n",
    "# give us the distance to zero\n",
    "\n",
    "print(abs(-5))\n",
    "\n",
    "print(abs(10))\n",
    "\n",
    "\n",
    "print(abs(5-13))"
   ]
  },
  {
   "cell_type": "markdown",
   "metadata": {},
   "source": [
    "### Try and Except"
   ]
  },
  {
   "cell_type": "code",
   "execution_count": null,
   "metadata": {},
   "outputs": [],
   "source": [
    "# use this whenever you expect encounter a bug so that the error doesn't cause the program to stop\n",
    "# logging graceful error messages to gently nudge the user in the right direction\n",
    "\n",
    "try:\n",
    "    age = int(input(\"How old are you? \"))\n",
    "    print(f\"Happy Birthday you were {age} and now you are {age + 1}\")\n",
    "except:\n",
    "    print(\"Please enter in a number, not text\")"
   ]
  },
  {
   "cell_type": "code",
   "execution_count": null,
   "metadata": {},
   "outputs": [],
   "source": [
    "age = int(input(\"How old are you? \"))\n",
    "print(f\"Happy Birthday you were {age} and now you are {age + 1}\")"
   ]
  },
  {
   "cell_type": "markdown",
   "metadata": {},
   "source": [
    "## Exercise #1 <br>\n",
    "<p>Accept two user ages as inputs and give us the difference between them. (The Answer should always be a positive output)</p>"
   ]
  },
  {
   "cell_type": "code",
   "execution_count": null,
   "metadata": {},
   "outputs": [],
   "source": [
    "\n",
    "\n",
    "\n",
    "        \n",
    "        \n"
   ]
  },
  {
   "cell_type": "markdown",
   "metadata": {},
   "source": [
    "## Exercise #2 \n",
    "<p>Accept 3 user inputs for variables named noun, verb and adjective. Print out a formatted string using the outputs.</p>"
   ]
  },
  {
   "cell_type": "markdown",
   "metadata": {},
   "source": [
    "## Exercise #3 <br>\n",
    "<p>Take in a users input for their age, if they are younger than 18 print kids, if they're 18 to 65 print adults, else print seniors</p>"
   ]
  },
  {
   "cell_type": "code",
   "execution_count": null,
   "metadata": {},
   "outputs": [],
   "source": []
  },
  {
   "cell_type": "markdown",
   "metadata": {},
   "source": [
    "## Exercise #4\n",
    "<p>Take in a number from a user input, output the number squared.</p>"
   ]
  },
  {
   "cell_type": "code",
   "execution_count": null,
   "metadata": {},
   "outputs": [],
   "source": []
  },
  {
   "cell_type": "markdown",
   "metadata": {},
   "source": [
    "## Exercise #5\n",
    "<p>Check the below variables' length. If the length of the word is greater than 5 output True, if it is less than 5, output False<p>\n"
   ]
  },
  {
   "cell_type": "code",
   "execution_count": null,
   "metadata": {},
   "outputs": [],
   "source": [
    "word1 = \"panini\"\n",
    "word2 = \"bulbasaur\"\n",
    "word3 = \"pie\"\n",
    "word4 = \"dolphin\"\n",
    "word5 = \"dog\"\n"
   ]
  }
 ],
 "metadata": {
  "kernelspec": {
   "display_name": "Python 3 (ipykernel)",
   "language": "python",
   "name": "python3"
  },
  "language_info": {
   "codemirror_mode": {
    "name": "ipython",
    "version": 3
   },
   "file_extension": ".py",
   "mimetype": "text/x-python",
   "name": "python",
   "nbconvert_exporter": "python",
   "pygments_lexer": "ipython3",
   "version": "3.11.4"
  }
 },
 "nbformat": 4,
 "nbformat_minor": 2
}
